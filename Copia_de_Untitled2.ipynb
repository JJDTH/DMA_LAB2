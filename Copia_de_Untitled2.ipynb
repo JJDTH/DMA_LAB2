{
  "nbformat": 4,
  "nbformat_minor": 0,
  "metadata": {
    "colab": {
      "name": "Copia de Untitled2.ipynb",
      "provenance": [],
      "collapsed_sections": [],
      "include_colab_link": true
    },
    "kernelspec": {
      "name": "python3",
      "display_name": "Python 3"
    }
  },
  "cells": [
    {
      "cell_type": "markdown",
      "metadata": {
        "id": "view-in-github",
        "colab_type": "text"
      },
      "source": [
        "<a href=\"https://colab.research.google.com/github/JJDTH/DMA_LAB2/blob/master/Copia_de_Untitled2.ipynb\" target=\"_parent\"><img src=\"https://colab.research.google.com/assets/colab-badge.svg\" alt=\"Open In Colab\"/></a>"
      ]
    },
    {
      "cell_type": "code",
      "metadata": {
        "id": "srtBD10-huym",
        "colab_type": "code",
        "outputId": "7915c30e-6647-4d2e-e4dd-86a6d31dc9f2",
        "colab": {
          "base_uri": "https://localhost:8080/",
          "height": 1000
        }
      },
      "source": [
        "!wget https://www.dropbox.com/home/LAB%202/interbank-internacional-2019/ib_base_campanias/ib_base_campanias.csv\n",
        "!wget https://www.dropbox.com/home/LAB%202/interbank-internacional-2019/ib_base_digital/ib_base_digital.csv\n",
        "!wget https://www.dropbox.com/home/LAB%202/interbank-internacional-2019/ib_base_inicial_test/ib_base_inicial_test.csv\n",
        "!wget https://www.dropbox.com/home/LAB%202/interbank-internacional-2019/ib_base_inicial_train/ib_base_inicial_train.csv\n",
        "!wget https://www.dropbox.com/home/LAB%202/interbank-internacional-2019/ib_base_rcc/ib_base_rcc.csv\n",
        "!wget https://www.dropbox.com/home/LAB%202/interbank-internacional-2019/ib_base_reniec/ib_base_reniec.csv\n",
        "!wget https://www.dropbox.com/home/LAB%202/interbank-internacional-2019/ib_base_sunat/ib_base_sunat.csv\n",
        "!wget https://www.dropbox.com/home/LAB%202/interbank-internacional-2019/ib_base_vehicular/ib_base_vehicular.csv\n",
        "!wget https://www.dropbox.com/home/LAB%202/interbank-internacional-2019/sampleSubmission/sampleSubmission.csv\n",
        "\n"
      ],
      "execution_count": 2,
      "outputs": [
        {
          "output_type": "stream",
          "text": [
            "--2019-12-26 19:36:39--  https://www.dropbox.com/home/LAB%202/interbank-internacional-2019/ib_base_campanias/ib_base_campanias.csv\n",
            "Resolving www.dropbox.com (www.dropbox.com)... 162.125.65.1, 2620:100:6021:1::a27d:4101\n",
            "Connecting to www.dropbox.com (www.dropbox.com)|162.125.65.1|:443... connected.\n",
            "HTTP request sent, awaiting response... 302 Found\n",
            "Location: /login?cont=https%3A%2F%2Fwww.dropbox.com%2Fhome%2FLAB%25202%2Finterbank-internacional-2019%2Fib_base_campanias%2Fib_base_campanias.csv [following]\n",
            "--2019-12-26 19:36:39--  https://www.dropbox.com/login?cont=https%3A%2F%2Fwww.dropbox.com%2Fhome%2FLAB%25202%2Finterbank-internacional-2019%2Fib_base_campanias%2Fib_base_campanias.csv\n",
            "Reusing existing connection to www.dropbox.com:443.\n",
            "HTTP request sent, awaiting response... 200 OK\n",
            "Length: unspecified [text/html]\n",
            "Saving to: ‘ib_base_campanias.csv.1’\n",
            "\n",
            "\rib_base_campanias.c     [<=>                 ]       0  --.-KB/s               \rib_base_campanias.c     [ <=>                ]  50.19K   328KB/s    in 0.2s    \n",
            "\n",
            "2019-12-26 19:36:39 (328 KB/s) - ‘ib_base_campanias.csv.1’ saved [51394]\n",
            "\n",
            "--2019-12-26 19:36:42--  https://www.dropbox.com/home/LAB%202/interbank-internacional-2019/ib_base_digital/ib_base_digital.csv\n",
            "Resolving www.dropbox.com (www.dropbox.com)... 162.125.65.1, 2620:100:6021:1::a27d:4101\n",
            "Connecting to www.dropbox.com (www.dropbox.com)|162.125.65.1|:443... connected.\n",
            "HTTP request sent, awaiting response... 302 Found\n",
            "Location: /login?cont=https%3A%2F%2Fwww.dropbox.com%2Fhome%2FLAB%25202%2Finterbank-internacional-2019%2Fib_base_digital%2Fib_base_digital.csv [following]\n",
            "--2019-12-26 19:36:42--  https://www.dropbox.com/login?cont=https%3A%2F%2Fwww.dropbox.com%2Fhome%2FLAB%25202%2Finterbank-internacional-2019%2Fib_base_digital%2Fib_base_digital.csv\n",
            "Reusing existing connection to www.dropbox.com:443.\n",
            "HTTP request sent, awaiting response... 200 OK\n",
            "Length: unspecified [text/html]\n",
            "Saving to: ‘ib_base_digital.csv.1’\n",
            "\n",
            "ib_base_digital.csv     [ <=>                ]  50.20K   322KB/s    in 0.2s    \n",
            "\n",
            "2019-12-26 19:36:43 (322 KB/s) - ‘ib_base_digital.csv.1’ saved [51401]\n",
            "\n",
            "--2019-12-26 19:36:45--  https://www.dropbox.com/home/LAB%202/interbank-internacional-2019/ib_base_inicial_test/ib_base_inicial_test.csv\n",
            "Resolving www.dropbox.com (www.dropbox.com)... 162.125.65.1, 2620:100:6021:1::a27d:4101\n",
            "Connecting to www.dropbox.com (www.dropbox.com)|162.125.65.1|:443... connected.\n",
            "HTTP request sent, awaiting response... 302 Found\n",
            "Location: /login?cont=https%3A%2F%2Fwww.dropbox.com%2Fhome%2FLAB%25202%2Finterbank-internacional-2019%2Fib_base_inicial_test%2Fib_base_inicial_test.csv [following]\n",
            "--2019-12-26 19:36:45--  https://www.dropbox.com/login?cont=https%3A%2F%2Fwww.dropbox.com%2Fhome%2FLAB%25202%2Finterbank-internacional-2019%2Fib_base_inicial_test%2Fib_base_inicial_test.csv\n",
            "Reusing existing connection to www.dropbox.com:443.\n",
            "HTTP request sent, awaiting response... 200 OK\n",
            "Length: unspecified [text/html]\n",
            "Saving to: ‘ib_base_inicial_test.csv.1’\n",
            "\n",
            "ib_base_inicial_tes     [ <=>                ]  50.22K  --.-KB/s    in 0.1s    \n",
            "\n",
            "2019-12-26 19:36:45 (495 KB/s) - ‘ib_base_inicial_test.csv.1’ saved [51422]\n",
            "\n",
            "--2019-12-26 19:36:48--  https://www.dropbox.com/home/LAB%202/interbank-internacional-2019/ib_base_inicial_train/ib_base_inicial_train.csv\n",
            "Resolving www.dropbox.com (www.dropbox.com)... 162.125.65.1, 2620:100:6021:1::a27d:4101\n",
            "Connecting to www.dropbox.com (www.dropbox.com)|162.125.65.1|:443... connected.\n",
            "HTTP request sent, awaiting response... 302 Found\n",
            "Location: /login?cont=https%3A%2F%2Fwww.dropbox.com%2Fhome%2FLAB%25202%2Finterbank-internacional-2019%2Fib_base_inicial_train%2Fib_base_inicial_train.csv [following]\n",
            "--2019-12-26 19:36:48--  https://www.dropbox.com/login?cont=https%3A%2F%2Fwww.dropbox.com%2Fhome%2FLAB%25202%2Finterbank-internacional-2019%2Fib_base_inicial_train%2Fib_base_inicial_train.csv\n",
            "Reusing existing connection to www.dropbox.com:443.\n",
            "HTTP request sent, awaiting response... 200 OK\n",
            "Length: unspecified [text/html]\n",
            "Saving to: ‘ib_base_inicial_train.csv.1’\n",
            "\n",
            "ib_base_inicial_tra     [ <=>                ]  50.23K  --.-KB/s    in 0.01s   \n",
            "\n",
            "2019-12-26 19:36:48 (3.85 MB/s) - ‘ib_base_inicial_train.csv.1’ saved [51432]\n",
            "\n",
            "--2019-12-26 19:36:51--  https://www.dropbox.com/home/LAB%202/interbank-internacional-2019/ib_base_rcc/ib_base_rcc.csv\n",
            "Resolving www.dropbox.com (www.dropbox.com)... 162.125.65.1, 2620:100:6021:1::a27d:4101\n",
            "Connecting to www.dropbox.com (www.dropbox.com)|162.125.65.1|:443... connected.\n",
            "HTTP request sent, awaiting response... 302 Found\n",
            "Location: /login?cont=https%3A%2F%2Fwww.dropbox.com%2Fhome%2FLAB%25202%2Finterbank-internacional-2019%2Fib_base_rcc%2Fib_base_rcc.csv [following]\n",
            "--2019-12-26 19:36:51--  https://www.dropbox.com/login?cont=https%3A%2F%2Fwww.dropbox.com%2Fhome%2FLAB%25202%2Finterbank-internacional-2019%2Fib_base_rcc%2Fib_base_rcc.csv\n",
            "Reusing existing connection to www.dropbox.com:443.\n",
            "HTTP request sent, awaiting response... 200 OK\n",
            "Length: unspecified [text/html]\n",
            "Saving to: ‘ib_base_rcc.csv.1’\n",
            "\n",
            "ib_base_rcc.csv.1       [ <=>                ]  50.17K  --.-KB/s    in 0.006s  \n",
            "\n",
            "2019-12-26 19:36:51 (8.85 MB/s) - ‘ib_base_rcc.csv.1’ saved [51370]\n",
            "\n",
            "--2019-12-26 19:36:54--  https://www.dropbox.com/home/LAB%202/interbank-internacional-2019/ib_base_reniec/ib_base_reniec.csv\n",
            "Resolving www.dropbox.com (www.dropbox.com)... 162.125.65.1, 2620:100:6021:1::a27d:4101\n",
            "Connecting to www.dropbox.com (www.dropbox.com)|162.125.65.1|:443... connected.\n",
            "HTTP request sent, awaiting response... 302 Found\n",
            "Location: /login?cont=https%3A%2F%2Fwww.dropbox.com%2Fhome%2FLAB%25202%2Finterbank-internacional-2019%2Fib_base_reniec%2Fib_base_reniec.csv [following]\n",
            "--2019-12-26 19:36:54--  https://www.dropbox.com/login?cont=https%3A%2F%2Fwww.dropbox.com%2Fhome%2FLAB%25202%2Finterbank-internacional-2019%2Fib_base_reniec%2Fib_base_reniec.csv\n",
            "Reusing existing connection to www.dropbox.com:443.\n",
            "HTTP request sent, awaiting response... 200 OK\n",
            "Length: unspecified [text/html]\n",
            "Saving to: ‘ib_base_reniec.csv.1’\n",
            "\n",
            "ib_base_reniec.csv.     [ <=>                ]  50.19K  --.-KB/s    in 0.01s   \n",
            "\n",
            "2019-12-26 19:36:55 (4.36 MB/s) - ‘ib_base_reniec.csv.1’ saved [51393]\n",
            "\n",
            "--2019-12-26 19:36:57--  https://www.dropbox.com/home/LAB%202/interbank-internacional-2019/ib_base_sunat/ib_base_sunat.csv\n",
            "Resolving www.dropbox.com (www.dropbox.com)... 162.125.65.1, 2620:100:6021:1::a27d:4101\n",
            "Connecting to www.dropbox.com (www.dropbox.com)|162.125.65.1|:443... connected.\n",
            "HTTP request sent, awaiting response... 302 Found\n",
            "Location: /login?cont=https%3A%2F%2Fwww.dropbox.com%2Fhome%2FLAB%25202%2Finterbank-internacional-2019%2Fib_base_sunat%2Fib_base_sunat.csv [following]\n",
            "--2019-12-26 19:36:57--  https://www.dropbox.com/login?cont=https%3A%2F%2Fwww.dropbox.com%2Fhome%2FLAB%25202%2Finterbank-internacional-2019%2Fib_base_sunat%2Fib_base_sunat.csv\n",
            "Reusing existing connection to www.dropbox.com:443.\n",
            "HTTP request sent, awaiting response... 200 OK\n",
            "Length: unspecified [text/html]\n",
            "Saving to: ‘ib_base_sunat.csv.1’\n",
            "\n",
            "ib_base_sunat.csv.1     [ <=>                ]  50.18K  --.-KB/s    in 0.005s  \n",
            "\n",
            "2019-12-26 19:36:57 (9.66 MB/s) - ‘ib_base_sunat.csv.1’ saved [51380]\n",
            "\n",
            "--2019-12-26 19:37:00--  https://www.dropbox.com/home/LAB%202/interbank-internacional-2019/ib_base_vehicular/ib_base_vehicular.csv\n",
            "Resolving www.dropbox.com (www.dropbox.com)... 162.125.65.1, 2620:100:6021:1::a27d:4101\n",
            "Connecting to www.dropbox.com (www.dropbox.com)|162.125.65.1|:443... connected.\n",
            "HTTP request sent, awaiting response... 302 Found\n",
            "Location: /login?cont=https%3A%2F%2Fwww.dropbox.com%2Fhome%2FLAB%25202%2Finterbank-internacional-2019%2Fib_base_vehicular%2Fib_base_vehicular.csv [following]\n",
            "--2019-12-26 19:37:00--  https://www.dropbox.com/login?cont=https%3A%2F%2Fwww.dropbox.com%2Fhome%2FLAB%25202%2Finterbank-internacional-2019%2Fib_base_vehicular%2Fib_base_vehicular.csv\n",
            "Reusing existing connection to www.dropbox.com:443.\n",
            "HTTP request sent, awaiting response... 200 OK\n",
            "Length: unspecified [text/html]\n",
            "Saving to: ‘ib_base_vehicular.csv.1’\n",
            "\n",
            "ib_base_vehicular.c     [ <=>                ]  50.20K   322KB/s    in 0.2s    \n",
            "\n",
            "2019-12-26 19:37:01 (322 KB/s) - ‘ib_base_vehicular.csv.1’ saved [51408]\n",
            "\n",
            "--2019-12-26 19:37:02--  https://www.dropbox.com/home/LAB%202/interbank-internacional-2019/sampleSubmission/sampleSubmission.csv\n",
            "Resolving www.dropbox.com (www.dropbox.com)... 162.125.65.1, 2620:100:6021:1::a27d:4101\n",
            "Connecting to www.dropbox.com (www.dropbox.com)|162.125.65.1|:443... connected.\n",
            "HTTP request sent, awaiting response... 302 Found\n",
            "Location: /login?cont=https%3A%2F%2Fwww.dropbox.com%2Fhome%2FLAB%25202%2Finterbank-internacional-2019%2FsampleSubmission%2FsampleSubmission.csv [following]\n",
            "--2019-12-26 19:37:03--  https://www.dropbox.com/login?cont=https%3A%2F%2Fwww.dropbox.com%2Fhome%2FLAB%25202%2Finterbank-internacional-2019%2FsampleSubmission%2FsampleSubmission.csv\n",
            "Reusing existing connection to www.dropbox.com:443.\n",
            "HTTP request sent, awaiting response... 200 OK\n",
            "Length: unspecified [text/html]\n",
            "Saving to: ‘sampleSubmission.csv.1’\n",
            "\n",
            "sampleSubmission.cs     [ <=>                ]  50.20K  --.-KB/s    in 0.02s   \n",
            "\n",
            "2019-12-26 19:37:03 (3.12 MB/s) - ‘sampleSubmission.csv.1’ saved [51401]\n",
            "\n"
          ],
          "name": "stdout"
        }
      ]
    },
    {
      "cell_type": "code",
      "metadata": {
        "id": "IlCpuNz3Ba9U",
        "colab_type": "code",
        "colab": {}
      },
      "source": [
        "import pandas as pd\n"
      ],
      "execution_count": 0,
      "outputs": []
    },
    {
      "cell_type": "code",
      "metadata": {
        "id": "XjcGvzdfb_mH",
        "colab_type": "code",
        "outputId": "b54509eb-a9fc-4760-828b-0569d3902af5",
        "colab": {
          "base_uri": "https://localhost:8080/",
          "height": 185
        }
      },
      "source": [
        "!ls"
      ],
      "execution_count": 2,
      "outputs": [
        {
          "output_type": "stream",
          "text": [
            "ib_base_campanias.csv\t     ib_base_reniec.csv\n",
            "ib_base_campanias.csv.1      ib_base_reniec.csv.1\n",
            "ib_base_digital.csv\t     ib_base_sunat.csv\n",
            "ib_base_digital.csv.1\t     ib_base_sunat.csv.1\n",
            "ib_base_inicial_test.csv     ib_base_vehicular.csv\n",
            "ib_base_inicial_test.csv.1   ib_base_vehicular.csv.1\n",
            "ib_base_inicial_train.csv    sample_data\n",
            "ib_base_inicial_train.csv.1  sampleSubmission.csv\n",
            "ib_base_rcc.csv\t\t     sampleSubmission.csv.1\n",
            "ib_base_rcc.csv.1\n"
          ],
          "name": "stdout"
        }
      ]
    },
    {
      "cell_type": "code",
      "metadata": {
        "id": "-NEmZi8hBfP1",
        "colab_type": "code",
        "outputId": "87b44fa9-634c-4718-9bcf-b9f6c3a5b0a6",
        "colab": {
          "base_uri": "https://localhost:8080/",
          "height": 471
        }
      },
      "source": [
        "X_test = pd.read_csv(\"./ib_base_inicial_test.csv\")\n"
      ],
      "execution_count": 15,
      "outputs": [
        {
          "output_type": "error",
          "ename": "ParserError",
          "evalue": "ignored",
          "traceback": [
            "\u001b[0;31m---------------------------------------------------------------------------\u001b[0m",
            "\u001b[0;31mParserError\u001b[0m                               Traceback (most recent call last)",
            "\u001b[0;32m<ipython-input-15-83e808cff71f>\u001b[0m in \u001b[0;36m<module>\u001b[0;34m()\u001b[0m\n\u001b[0;32m----> 1\u001b[0;31m \u001b[0mX_test\u001b[0m \u001b[0;34m=\u001b[0m \u001b[0mpd\u001b[0m\u001b[0;34m.\u001b[0m\u001b[0mread_csv\u001b[0m\u001b[0;34m(\u001b[0m\u001b[0;34m\"./ib_base_inicial_test.csv\"\u001b[0m\u001b[0;34m)\u001b[0m\u001b[0;34m\u001b[0m\u001b[0;34m\u001b[0m\u001b[0m\n\u001b[0m",
            "\u001b[0;32m/usr/local/lib/python3.6/dist-packages/pandas/io/parsers.py\u001b[0m in \u001b[0;36mparser_f\u001b[0;34m(filepath_or_buffer, sep, delimiter, header, names, index_col, usecols, squeeze, prefix, mangle_dupe_cols, dtype, engine, converters, true_values, false_values, skipinitialspace, skiprows, skipfooter, nrows, na_values, keep_default_na, na_filter, verbose, skip_blank_lines, parse_dates, infer_datetime_format, keep_date_col, date_parser, dayfirst, cache_dates, iterator, chunksize, compression, thousands, decimal, lineterminator, quotechar, quoting, doublequote, escapechar, comment, encoding, dialect, error_bad_lines, warn_bad_lines, delim_whitespace, low_memory, memory_map, float_precision)\u001b[0m\n\u001b[1;32m    683\u001b[0m         )\n\u001b[1;32m    684\u001b[0m \u001b[0;34m\u001b[0m\u001b[0m\n\u001b[0;32m--> 685\u001b[0;31m         \u001b[0;32mreturn\u001b[0m \u001b[0m_read\u001b[0m\u001b[0;34m(\u001b[0m\u001b[0mfilepath_or_buffer\u001b[0m\u001b[0;34m,\u001b[0m \u001b[0mkwds\u001b[0m\u001b[0;34m)\u001b[0m\u001b[0;34m\u001b[0m\u001b[0;34m\u001b[0m\u001b[0m\n\u001b[0m\u001b[1;32m    686\u001b[0m \u001b[0;34m\u001b[0m\u001b[0m\n\u001b[1;32m    687\u001b[0m     \u001b[0mparser_f\u001b[0m\u001b[0;34m.\u001b[0m\u001b[0m__name__\u001b[0m \u001b[0;34m=\u001b[0m \u001b[0mname\u001b[0m\u001b[0;34m\u001b[0m\u001b[0;34m\u001b[0m\u001b[0m\n",
            "\u001b[0;32m/usr/local/lib/python3.6/dist-packages/pandas/io/parsers.py\u001b[0m in \u001b[0;36m_read\u001b[0;34m(filepath_or_buffer, kwds)\u001b[0m\n\u001b[1;32m    461\u001b[0m \u001b[0;34m\u001b[0m\u001b[0m\n\u001b[1;32m    462\u001b[0m     \u001b[0;32mtry\u001b[0m\u001b[0;34m:\u001b[0m\u001b[0;34m\u001b[0m\u001b[0;34m\u001b[0m\u001b[0m\n\u001b[0;32m--> 463\u001b[0;31m         \u001b[0mdata\u001b[0m \u001b[0;34m=\u001b[0m \u001b[0mparser\u001b[0m\u001b[0;34m.\u001b[0m\u001b[0mread\u001b[0m\u001b[0;34m(\u001b[0m\u001b[0mnrows\u001b[0m\u001b[0;34m)\u001b[0m\u001b[0;34m\u001b[0m\u001b[0;34m\u001b[0m\u001b[0m\n\u001b[0m\u001b[1;32m    464\u001b[0m     \u001b[0;32mfinally\u001b[0m\u001b[0;34m:\u001b[0m\u001b[0;34m\u001b[0m\u001b[0;34m\u001b[0m\u001b[0m\n\u001b[1;32m    465\u001b[0m         \u001b[0mparser\u001b[0m\u001b[0;34m.\u001b[0m\u001b[0mclose\u001b[0m\u001b[0;34m(\u001b[0m\u001b[0;34m)\u001b[0m\u001b[0;34m\u001b[0m\u001b[0;34m\u001b[0m\u001b[0m\n",
            "\u001b[0;32m/usr/local/lib/python3.6/dist-packages/pandas/io/parsers.py\u001b[0m in \u001b[0;36mread\u001b[0;34m(self, nrows)\u001b[0m\n\u001b[1;32m   1152\u001b[0m     \u001b[0;32mdef\u001b[0m \u001b[0mread\u001b[0m\u001b[0;34m(\u001b[0m\u001b[0mself\u001b[0m\u001b[0;34m,\u001b[0m \u001b[0mnrows\u001b[0m\u001b[0;34m=\u001b[0m\u001b[0;32mNone\u001b[0m\u001b[0;34m)\u001b[0m\u001b[0;34m:\u001b[0m\u001b[0;34m\u001b[0m\u001b[0;34m\u001b[0m\u001b[0m\n\u001b[1;32m   1153\u001b[0m         \u001b[0mnrows\u001b[0m \u001b[0;34m=\u001b[0m \u001b[0m_validate_integer\u001b[0m\u001b[0;34m(\u001b[0m\u001b[0;34m\"nrows\"\u001b[0m\u001b[0;34m,\u001b[0m \u001b[0mnrows\u001b[0m\u001b[0;34m)\u001b[0m\u001b[0;34m\u001b[0m\u001b[0;34m\u001b[0m\u001b[0m\n\u001b[0;32m-> 1154\u001b[0;31m         \u001b[0mret\u001b[0m \u001b[0;34m=\u001b[0m \u001b[0mself\u001b[0m\u001b[0;34m.\u001b[0m\u001b[0m_engine\u001b[0m\u001b[0;34m.\u001b[0m\u001b[0mread\u001b[0m\u001b[0;34m(\u001b[0m\u001b[0mnrows\u001b[0m\u001b[0;34m)\u001b[0m\u001b[0;34m\u001b[0m\u001b[0;34m\u001b[0m\u001b[0m\n\u001b[0m\u001b[1;32m   1155\u001b[0m \u001b[0;34m\u001b[0m\u001b[0m\n\u001b[1;32m   1156\u001b[0m         \u001b[0;31m# May alter columns / col_dict\u001b[0m\u001b[0;34m\u001b[0m\u001b[0;34m\u001b[0m\u001b[0;34m\u001b[0m\u001b[0m\n",
            "\u001b[0;32m/usr/local/lib/python3.6/dist-packages/pandas/io/parsers.py\u001b[0m in \u001b[0;36mread\u001b[0;34m(self, nrows)\u001b[0m\n\u001b[1;32m   2057\u001b[0m     \u001b[0;32mdef\u001b[0m \u001b[0mread\u001b[0m\u001b[0;34m(\u001b[0m\u001b[0mself\u001b[0m\u001b[0;34m,\u001b[0m \u001b[0mnrows\u001b[0m\u001b[0;34m=\u001b[0m\u001b[0;32mNone\u001b[0m\u001b[0;34m)\u001b[0m\u001b[0;34m:\u001b[0m\u001b[0;34m\u001b[0m\u001b[0;34m\u001b[0m\u001b[0m\n\u001b[1;32m   2058\u001b[0m         \u001b[0;32mtry\u001b[0m\u001b[0;34m:\u001b[0m\u001b[0;34m\u001b[0m\u001b[0;34m\u001b[0m\u001b[0m\n\u001b[0;32m-> 2059\u001b[0;31m             \u001b[0mdata\u001b[0m \u001b[0;34m=\u001b[0m \u001b[0mself\u001b[0m\u001b[0;34m.\u001b[0m\u001b[0m_reader\u001b[0m\u001b[0;34m.\u001b[0m\u001b[0mread\u001b[0m\u001b[0;34m(\u001b[0m\u001b[0mnrows\u001b[0m\u001b[0;34m)\u001b[0m\u001b[0;34m\u001b[0m\u001b[0;34m\u001b[0m\u001b[0m\n\u001b[0m\u001b[1;32m   2060\u001b[0m         \u001b[0;32mexcept\u001b[0m \u001b[0mStopIteration\u001b[0m\u001b[0;34m:\u001b[0m\u001b[0;34m\u001b[0m\u001b[0;34m\u001b[0m\u001b[0m\n\u001b[1;32m   2061\u001b[0m             \u001b[0;32mif\u001b[0m \u001b[0mself\u001b[0m\u001b[0;34m.\u001b[0m\u001b[0m_first_chunk\u001b[0m\u001b[0;34m:\u001b[0m\u001b[0;34m\u001b[0m\u001b[0;34m\u001b[0m\u001b[0m\n",
            "\u001b[0;32mpandas/_libs/parsers.pyx\u001b[0m in \u001b[0;36mpandas._libs.parsers.TextReader.read\u001b[0;34m()\u001b[0m\n",
            "\u001b[0;32mpandas/_libs/parsers.pyx\u001b[0m in \u001b[0;36mpandas._libs.parsers.TextReader._read_low_memory\u001b[0;34m()\u001b[0m\n",
            "\u001b[0;32mpandas/_libs/parsers.pyx\u001b[0m in \u001b[0;36mpandas._libs.parsers.TextReader._read_rows\u001b[0;34m()\u001b[0m\n",
            "\u001b[0;32mpandas/_libs/parsers.pyx\u001b[0m in \u001b[0;36mpandas._libs.parsers.TextReader._tokenize_rows\u001b[0;34m()\u001b[0m\n",
            "\u001b[0;32mpandas/_libs/parsers.pyx\u001b[0m in \u001b[0;36mpandas._libs.parsers.raise_parser_error\u001b[0;34m()\u001b[0m\n",
            "\u001b[0;31mParserError\u001b[0m: Error tokenizing data. C error: Expected 1 fields in line 3, saw 2\n"
          ]
        }
      ]
    },
    {
      "cell_type": "code",
      "metadata": {
        "id": "zHBpLRdO4NPz",
        "colab_type": "code",
        "colab": {
          "base_uri": "https://localhost:8080/",
          "height": 418
        },
        "outputId": "5c110fb5-f239-4ca8-8dfe-1a49eb89a36c"
      },
      "source": [
        "X_test"
      ],
      "execution_count": 14,
      "outputs": [
        {
          "output_type": "execute_result",
          "data": {
            "text/html": [
              "<div>\n",
              "<style scoped>\n",
              "    .dataframe tbody tr th:only-of-type {\n",
              "        vertical-align: middle;\n",
              "    }\n",
              "\n",
              "    .dataframe tbody tr th {\n",
              "        vertical-align: top;\n",
              "    }\n",
              "\n",
              "    .dataframe thead th {\n",
              "        text-align: right;\n",
              "    }\n",
              "</style>\n",
              "<table border=\"1\" class=\"dataframe\">\n",
              "  <thead>\n",
              "    <tr style=\"text-align: right;\">\n",
              "      <th></th>\n",
              "      <th>&lt;!DOCTYPE html&gt;&lt;html lang=\"en\" xmlns:fb=\"http://ogp.me/ns/fb#\" xml:lang=\"en\" class=\"media-desktop\" xmlns=\"http://www.w3.org/1999/xhtml\"&gt;&lt;head&gt;&lt;script nonce=\"JOTTh2++lHSh11CkfpXe\"&gt;</th>\n",
              "    </tr>\n",
              "  </thead>\n",
              "  <tbody>\n",
              "    <tr>\n",
              "      <th>0</th>\n",
              "      <td>window._goch_ = {};</td>\n",
              "    </tr>\n",
              "    <tr>\n",
              "      <th>1</th>\n",
              "      <td>window.addEventListener('click', function(even...</td>\n",
              "    </tr>\n",
              "    <tr>\n",
              "      <th>2</th>\n",
              "      <td>'use strict';</td>\n",
              "    </tr>\n",
              "    <tr>\n",
              "      <th>3</th>\n",
              "      <td>for (var elm = event.target; elm; elm = el...</td>\n",
              "    </tr>\n",
              "    <tr>\n",
              "      <th>4</th>\n",
              "      <td>if (elm.id &amp;&amp;</td>\n",
              "    </tr>\n",
              "    <tr>\n",
              "      <th>...</th>\n",
              "      <td>...</td>\n",
              "    </tr>\n",
              "    <tr>\n",
              "      <th>105</th>\n",
              "      <td>mod.initialize_module({\"ttv_at_dom_interactive...</td>\n",
              "    </tr>\n",
              "    <tr>\n",
              "      <th>106</th>\n",
              "      <td>}), \"require-tier-require-and-configure-module...</td>\n",
              "    </tr>\n",
              "    <tr>\n",
              "      <th>107</th>\n",
              "      <td>var HTML = _m0[\"HTML\"]; var Notify = _m1[\"Noti...</td>\n",
              "    </tr>\n",
              "    <tr>\n",
              "      <th>108</th>\n",
              "      <td>}), \"\"]]]);</td>\n",
              "    </tr>\n",
              "    <tr>\n",
              "      <th>109</th>\n",
              "      <td>&lt;/script&gt;&lt;img src=\"https://dro...</td>\n",
              "    </tr>\n",
              "  </tbody>\n",
              "</table>\n",
              "<p>110 rows × 1 columns</p>\n",
              "</div>"
            ],
            "text/plain": [
              "    <!DOCTYPE html><html lang=\"en\" xmlns:fb=\"http://ogp.me/ns/fb#\" xml:lang=\"en\" class=\"media-desktop\" xmlns=\"http://www.w3.org/1999/xhtml\"><head><script nonce=\"JOTTh2++lHSh11CkfpXe\">\n",
              "0                                  window._goch_ = {};                                                                                                                                 \n",
              "1    window.addEventListener('click', function(even...                                                                                                                                 \n",
              "2                                        'use strict';                                                                                                                                 \n",
              "3        for (var elm = event.target; elm; elm = el...                                                                                                                                 \n",
              "4                                        if (elm.id &&                                                                                                                                 \n",
              "..                                                 ...                                                                                                                                 \n",
              "105  mod.initialize_module({\"ttv_at_dom_interactive...                                                                                                                                 \n",
              "106  }), \"require-tier-require-and-configure-module...                                                                                                                                 \n",
              "107  var HTML = _m0[\"HTML\"]; var Notify = _m1[\"Noti...                                                                                                                                 \n",
              "108                                        }), \"\"]]]);                                                                                                                                 \n",
              "109                  </script><img src=\"https://dro...                                                                                                                                 \n",
              "\n",
              "[110 rows x 1 columns]"
            ]
          },
          "metadata": {
            "tags": []
          },
          "execution_count": 14
        }
      ]
    },
    {
      "cell_type": "code",
      "metadata": {
        "id": "ydO9G3PLBwfr",
        "colab_type": "code",
        "colab": {}
      },
      "source": [
        "sunat = pd.read_csv(\"./ib_base_sunat.csv\")\n",
        "train = pd.read_csv(\"./ib_base_inicial_train.csv\")\n",
        "rcc = pd.read_csv(\"./ib_base_rcc.csv\")\n",
        "reniec = pd.read_csv(\"./ib_base_reniec.csv\")\n",
        "digital = pd.read_csv(\"./ib_base_digital.csv\")\n",
        "vehicular = pd.read_csv(\"./ib_base_vehicular.csv\")\n",
        "campanias = pd.read_csv(\"./ib_base_campanias.csv\")"
      ],
      "execution_count": 0,
      "outputs": []
    },
    {
      "cell_type": "code",
      "metadata": {
        "id": "Hqe50APQCFPg",
        "colab_type": "code",
        "outputId": "53090c47-3dfd-4cf6-a1e5-da8e51db9e76",
        "colab": {
          "base_uri": "https://localhost:8080/",
          "height": 370
        }
      },
      "source": [
        "y_train = train[['codmes', 'id_persona', 'margen']].copy()\n",
        "y_train[\"prediction_id\"] = y_train[\"id_persona\"].astype(str) + \"_\" + y_train[\"codmes\"].astype(str)\n",
        "y_train[\"target\"] = y_train[\"margen\"].astype(\"float32\")\n",
        "y_train = y_train.set_index(\"prediction_id\")\n",
        "X_train = train.drop([\"codtarget\", \"margen\"], axis=1)\n",
        "X_train[\"prediction_id\"] = X_train[\"id_persona\"].astype(str) + \"_\" + X_train[\"codmes\"].astype(str)\n",
        "del train"
      ],
      "execution_count": 0,
      "outputs": [
        {
          "output_type": "error",
          "ename": "KeyError",
          "evalue": "ignored",
          "traceback": [
            "\u001b[0;31m---------------------------------------------------------------------------\u001b[0m",
            "\u001b[0;31mKeyError\u001b[0m                                  Traceback (most recent call last)",
            "\u001b[0;32m<ipython-input-15-02fe64c10f22>\u001b[0m in \u001b[0;36m<module>\u001b[0;34m()\u001b[0m\n\u001b[0;32m----> 1\u001b[0;31m \u001b[0my_train\u001b[0m \u001b[0;34m=\u001b[0m \u001b[0mtrain\u001b[0m\u001b[0;34m[\u001b[0m\u001b[0;34m[\u001b[0m\u001b[0;34m'codmes'\u001b[0m\u001b[0;34m,\u001b[0m \u001b[0;34m'id_persona'\u001b[0m\u001b[0;34m,\u001b[0m \u001b[0;34m'margen'\u001b[0m\u001b[0;34m]\u001b[0m\u001b[0;34m]\u001b[0m\u001b[0;34m.\u001b[0m\u001b[0mcopy\u001b[0m\u001b[0;34m(\u001b[0m\u001b[0;34m)\u001b[0m\u001b[0;34m\u001b[0m\u001b[0;34m\u001b[0m\u001b[0m\n\u001b[0m\u001b[1;32m      2\u001b[0m \u001b[0my_train\u001b[0m\u001b[0;34m[\u001b[0m\u001b[0;34m\"prediction_id\"\u001b[0m\u001b[0;34m]\u001b[0m \u001b[0;34m=\u001b[0m \u001b[0my_train\u001b[0m\u001b[0;34m[\u001b[0m\u001b[0;34m\"id_persona\"\u001b[0m\u001b[0;34m]\u001b[0m\u001b[0;34m.\u001b[0m\u001b[0mastype\u001b[0m\u001b[0;34m(\u001b[0m\u001b[0mstr\u001b[0m\u001b[0;34m)\u001b[0m \u001b[0;34m+\u001b[0m \u001b[0;34m\"_\"\u001b[0m \u001b[0;34m+\u001b[0m \u001b[0my_train\u001b[0m\u001b[0;34m[\u001b[0m\u001b[0;34m\"codmes\"\u001b[0m\u001b[0;34m]\u001b[0m\u001b[0;34m.\u001b[0m\u001b[0mastype\u001b[0m\u001b[0;34m(\u001b[0m\u001b[0mstr\u001b[0m\u001b[0;34m)\u001b[0m\u001b[0;34m\u001b[0m\u001b[0;34m\u001b[0m\u001b[0m\n\u001b[1;32m      3\u001b[0m \u001b[0my_train\u001b[0m\u001b[0;34m[\u001b[0m\u001b[0;34m\"target\"\u001b[0m\u001b[0;34m]\u001b[0m \u001b[0;34m=\u001b[0m \u001b[0my_train\u001b[0m\u001b[0;34m[\u001b[0m\u001b[0;34m\"margen\"\u001b[0m\u001b[0;34m]\u001b[0m\u001b[0;34m.\u001b[0m\u001b[0mastype\u001b[0m\u001b[0;34m(\u001b[0m\u001b[0;34m\"float32\"\u001b[0m\u001b[0;34m)\u001b[0m\u001b[0;34m\u001b[0m\u001b[0;34m\u001b[0m\u001b[0m\n\u001b[1;32m      4\u001b[0m \u001b[0my_train\u001b[0m \u001b[0;34m=\u001b[0m \u001b[0my_train\u001b[0m\u001b[0;34m.\u001b[0m\u001b[0mset_index\u001b[0m\u001b[0;34m(\u001b[0m\u001b[0;34m\"prediction_id\"\u001b[0m\u001b[0;34m)\u001b[0m\u001b[0;34m\u001b[0m\u001b[0;34m\u001b[0m\u001b[0m\n\u001b[1;32m      5\u001b[0m \u001b[0mX_train\u001b[0m \u001b[0;34m=\u001b[0m \u001b[0mtrain\u001b[0m\u001b[0;34m.\u001b[0m\u001b[0mdrop\u001b[0m\u001b[0;34m(\u001b[0m\u001b[0;34m[\u001b[0m\u001b[0;34m\"codtarget\"\u001b[0m\u001b[0;34m,\u001b[0m \u001b[0;34m\"margen\"\u001b[0m\u001b[0;34m]\u001b[0m\u001b[0;34m,\u001b[0m \u001b[0maxis\u001b[0m\u001b[0;34m=\u001b[0m\u001b[0;36m1\u001b[0m\u001b[0;34m)\u001b[0m\u001b[0;34m\u001b[0m\u001b[0;34m\u001b[0m\u001b[0m\n",
            "\u001b[0;32m/usr/local/lib/python3.6/dist-packages/pandas/core/frame.py\u001b[0m in \u001b[0;36m__getitem__\u001b[0;34m(self, key)\u001b[0m\n\u001b[1;32m   2999\u001b[0m             \u001b[0;32mif\u001b[0m \u001b[0mis_iterator\u001b[0m\u001b[0;34m(\u001b[0m\u001b[0mkey\u001b[0m\u001b[0;34m)\u001b[0m\u001b[0;34m:\u001b[0m\u001b[0;34m\u001b[0m\u001b[0;34m\u001b[0m\u001b[0m\n\u001b[1;32m   3000\u001b[0m                 \u001b[0mkey\u001b[0m \u001b[0;34m=\u001b[0m \u001b[0mlist\u001b[0m\u001b[0;34m(\u001b[0m\u001b[0mkey\u001b[0m\u001b[0;34m)\u001b[0m\u001b[0;34m\u001b[0m\u001b[0;34m\u001b[0m\u001b[0m\n\u001b[0;32m-> 3001\u001b[0;31m             \u001b[0mindexer\u001b[0m \u001b[0;34m=\u001b[0m \u001b[0mself\u001b[0m\u001b[0;34m.\u001b[0m\u001b[0mloc\u001b[0m\u001b[0;34m.\u001b[0m\u001b[0m_convert_to_indexer\u001b[0m\u001b[0;34m(\u001b[0m\u001b[0mkey\u001b[0m\u001b[0;34m,\u001b[0m \u001b[0maxis\u001b[0m\u001b[0;34m=\u001b[0m\u001b[0;36m1\u001b[0m\u001b[0;34m,\u001b[0m \u001b[0mraise_missing\u001b[0m\u001b[0;34m=\u001b[0m\u001b[0;32mTrue\u001b[0m\u001b[0;34m)\u001b[0m\u001b[0;34m\u001b[0m\u001b[0;34m\u001b[0m\u001b[0m\n\u001b[0m\u001b[1;32m   3002\u001b[0m \u001b[0;34m\u001b[0m\u001b[0m\n\u001b[1;32m   3003\u001b[0m         \u001b[0;31m# take() does not accept boolean indexers\u001b[0m\u001b[0;34m\u001b[0m\u001b[0;34m\u001b[0m\u001b[0;34m\u001b[0m\u001b[0m\n",
            "\u001b[0;32m/usr/local/lib/python3.6/dist-packages/pandas/core/indexing.py\u001b[0m in \u001b[0;36m_convert_to_indexer\u001b[0;34m(self, obj, axis, is_setter, raise_missing)\u001b[0m\n\u001b[1;32m   1283\u001b[0m                 \u001b[0;31m# When setting, missing keys are not allowed, even with .loc:\u001b[0m\u001b[0;34m\u001b[0m\u001b[0;34m\u001b[0m\u001b[0;34m\u001b[0m\u001b[0m\n\u001b[1;32m   1284\u001b[0m                 \u001b[0mkwargs\u001b[0m \u001b[0;34m=\u001b[0m \u001b[0;34m{\u001b[0m\u001b[0;34m\"raise_missing\"\u001b[0m\u001b[0;34m:\u001b[0m \u001b[0;32mTrue\u001b[0m \u001b[0;32mif\u001b[0m \u001b[0mis_setter\u001b[0m \u001b[0;32melse\u001b[0m \u001b[0mraise_missing\u001b[0m\u001b[0;34m}\u001b[0m\u001b[0;34m\u001b[0m\u001b[0;34m\u001b[0m\u001b[0m\n\u001b[0;32m-> 1285\u001b[0;31m                 \u001b[0;32mreturn\u001b[0m \u001b[0mself\u001b[0m\u001b[0;34m.\u001b[0m\u001b[0m_get_listlike_indexer\u001b[0m\u001b[0;34m(\u001b[0m\u001b[0mobj\u001b[0m\u001b[0;34m,\u001b[0m \u001b[0maxis\u001b[0m\u001b[0;34m,\u001b[0m \u001b[0;34m**\u001b[0m\u001b[0mkwargs\u001b[0m\u001b[0;34m)\u001b[0m\u001b[0;34m[\u001b[0m\u001b[0;36m1\u001b[0m\u001b[0;34m]\u001b[0m\u001b[0;34m\u001b[0m\u001b[0;34m\u001b[0m\u001b[0m\n\u001b[0m\u001b[1;32m   1286\u001b[0m         \u001b[0;32melse\u001b[0m\u001b[0;34m:\u001b[0m\u001b[0;34m\u001b[0m\u001b[0;34m\u001b[0m\u001b[0m\n\u001b[1;32m   1287\u001b[0m             \u001b[0;32mtry\u001b[0m\u001b[0;34m:\u001b[0m\u001b[0;34m\u001b[0m\u001b[0;34m\u001b[0m\u001b[0m\n",
            "\u001b[0;32m/usr/local/lib/python3.6/dist-packages/pandas/core/indexing.py\u001b[0m in \u001b[0;36m_get_listlike_indexer\u001b[0;34m(self, key, axis, raise_missing)\u001b[0m\n\u001b[1;32m   1090\u001b[0m \u001b[0;34m\u001b[0m\u001b[0m\n\u001b[1;32m   1091\u001b[0m         self._validate_read_indexer(\n\u001b[0;32m-> 1092\u001b[0;31m             \u001b[0mkeyarr\u001b[0m\u001b[0;34m,\u001b[0m \u001b[0mindexer\u001b[0m\u001b[0;34m,\u001b[0m \u001b[0mo\u001b[0m\u001b[0;34m.\u001b[0m\u001b[0m_get_axis_number\u001b[0m\u001b[0;34m(\u001b[0m\u001b[0maxis\u001b[0m\u001b[0;34m)\u001b[0m\u001b[0;34m,\u001b[0m \u001b[0mraise_missing\u001b[0m\u001b[0;34m=\u001b[0m\u001b[0mraise_missing\u001b[0m\u001b[0;34m\u001b[0m\u001b[0;34m\u001b[0m\u001b[0m\n\u001b[0m\u001b[1;32m   1093\u001b[0m         )\n\u001b[1;32m   1094\u001b[0m         \u001b[0;32mreturn\u001b[0m \u001b[0mkeyarr\u001b[0m\u001b[0;34m,\u001b[0m \u001b[0mindexer\u001b[0m\u001b[0;34m\u001b[0m\u001b[0;34m\u001b[0m\u001b[0m\n",
            "\u001b[0;32m/usr/local/lib/python3.6/dist-packages/pandas/core/indexing.py\u001b[0m in \u001b[0;36m_validate_read_indexer\u001b[0;34m(self, key, indexer, axis, raise_missing)\u001b[0m\n\u001b[1;32m   1175\u001b[0m                 raise KeyError(\n\u001b[1;32m   1176\u001b[0m                     \"None of [{key}] are in the [{axis}]\".format(\n\u001b[0;32m-> 1177\u001b[0;31m                         \u001b[0mkey\u001b[0m\u001b[0;34m=\u001b[0m\u001b[0mkey\u001b[0m\u001b[0;34m,\u001b[0m \u001b[0maxis\u001b[0m\u001b[0;34m=\u001b[0m\u001b[0mself\u001b[0m\u001b[0;34m.\u001b[0m\u001b[0mobj\u001b[0m\u001b[0;34m.\u001b[0m\u001b[0m_get_axis_name\u001b[0m\u001b[0;34m(\u001b[0m\u001b[0maxis\u001b[0m\u001b[0;34m)\u001b[0m\u001b[0;34m\u001b[0m\u001b[0;34m\u001b[0m\u001b[0m\n\u001b[0m\u001b[1;32m   1178\u001b[0m                     )\n\u001b[1;32m   1179\u001b[0m                 )\n",
            "\u001b[0;31mKeyError\u001b[0m: \"None of [Index(['codmes', 'id_persona', 'margen'], dtype='object')] are in the [columns]\""
          ]
        }
      ]
    },
    {
      "cell_type": "code",
      "metadata": {
        "id": "MUtEzoHBCJuu",
        "colab_type": "code",
        "colab": {}
      },
      "source": [
        "X_train[\"ratio\"] = X_train[\"linea_ofrecida\"] / X_train[\"ingreso_neto\"]\n",
        "X_test[\"ratio\"] = X_test[\"linea_ofrecida\"] / X_test[\"ingreso_neto\"]"
      ],
      "execution_count": 0,
      "outputs": []
    },
    {
      "cell_type": "code",
      "metadata": {
        "id": "nXlXbSo8DukQ",
        "colab_type": "code",
        "colab": {}
      },
      "source": [
        "rcc.clasif.fillna(-1, inplace=True)\n",
        "rcc.rango_mora.fillna(-1, inplace=True)\n",
        "rcc_clasif = rcc.groupby([\"codmes\", \"id_persona\"]).clasif.max().reset_index().set_index(\"codmes\").sort_index().astype(\"int32\")\n",
        "rcc_mora = rcc.groupby([\"codmes\", \"id_persona\", \"rango_mora\"]).mto_saldo.sum().unstack(level=2, fill_value=0).reset_index().set_index(\"codmes\").sort_index().astype(\"int32\")\n",
        "rcc_producto = rcc.groupby([\"codmes\", \"id_persona\", \"producto\"]).mto_saldo.sum().unstack(level=2, fill_value=0).reset_index().set_index(\"codmes\").sort_index().astype(\"int32\")\n",
        "rcc_banco = rcc.groupby([\"codmes\", \"id_persona\", \"cod_banco\"]).mto_saldo.sum().unstack(level=2, fill_value=0).reset_index().set_index(\"codmes\").sort_index().astype(\"int32\")\n",
        "del rcc"
      ],
      "execution_count": 0,
      "outputs": []
    },
    {
      "cell_type": "code",
      "metadata": {
        "id": "zJDGatj8EQAa",
        "colab_type": "code",
        "colab": {}
      },
      "source": [
        "rcc_mora.columns = [\"mora_\" + str(c) if c != \"id_persona\" else c for c in rcc_mora.columns ]\n",
        "rcc_producto.columns = [\"producto_\" + str(c) if c != \"id_persona\" else c for c in rcc_producto.columns]\n",
        "rcc_banco.columns = [\"banco_\" + str(c) if c != \"id_persona\" else c for c in rcc_banco.columns]"
      ],
      "execution_count": 0,
      "outputs": []
    },
    {
      "cell_type": "code",
      "metadata": {
        "id": "bvthMfmAEUZ7",
        "colab_type": "code",
        "colab": {}
      },
      "source": [
        "camp_canal = campanias.groupby([\"codmes\", \"id_persona\", \"canal_asignado\"]).size().unstack(level=2, fill_value=0).reset_index().set_index(\"codmes\").sort_index().astype(\"int32\")\n",
        "camp_prod = campanias.groupby([\"codmes\", \"id_persona\", \"producto\"]).size().unstack(level=2, fill_value=0).reset_index().set_index(\"codmes\").sort_index().astype(\"int32\")\n",
        "del campanias"
      ],
      "execution_count": 0,
      "outputs": []
    },
    {
      "cell_type": "code",
      "metadata": {
        "id": "r_qPqxmHEcRb",
        "colab_type": "code",
        "colab": {}
      },
      "source": [
        "camp_canal.columns = [\"canal_\" + str(c) if c != \"id_persona\" else c for c in camp_canal.columns]\n",
        "camp_prod.columns = [\"producto_campania_\" + str(c) if c != \"id_persona\" else c for c in camp_prod.columns]"
      ],
      "execution_count": 0,
      "outputs": []
    },
    {
      "cell_type": "code",
      "metadata": {
        "id": "Edf80Di_Ehhd",
        "colab_type": "code",
        "colab": {}
      },
      "source": [
        "digital[\"codmes\"] = digital.codday.astype(str).str[:-2].astype(int)\n",
        "digital = digital.drop(\"codday\", axis=1).fillna(0)\n",
        "digital = digital.groupby([\"codmes\", \"id_persona\"]).sum().reset_index().set_index(\"codmes\").sort_index().astype(\"int32\")"
      ],
      "execution_count": 0,
      "outputs": []
    },
    {
      "cell_type": "code",
      "metadata": {
        "id": "JU0keC7xEmEf",
        "colab_type": "code",
        "colab": {}
      },
      "source": [
        "sunat = sunat.groupby([\"id_persona\", \"activ_econo\"]).meses_alta.sum().unstack(level=1, fill_value=0).astype(\"int32\")\n",
        "vehicular1 = vehicular.groupby([\"id_persona\", \"marca\"]).veh_var1.sum().unstack(level=1, fill_value=0).astype(\"float32\")\n",
        "vehicular2 = vehicular.groupby([\"id_persona\", \"marca\"]).veh_var2.sum().unstack(level=1, fill_value=0).astype(\"float32\")\n",
        "reniec = reniec.set_index(\"id_persona\").astype(\"float32\")\n",
        "del vehicular"
      ],
      "execution_count": 0,
      "outputs": []
    },
    {
      "cell_type": "code",
      "metadata": {
        "id": "Es6ZlieMEowI",
        "colab_type": "code",
        "colab": {}
      },
      "source": [
        "vehicular1.columns = [c + \"_v1\" for c in vehicular1.columns]\n",
        "vehicular2.columns = [c + \"_v2\" for c in vehicular2.columns]"
      ],
      "execution_count": 0,
      "outputs": []
    },
    {
      "cell_type": "code",
      "metadata": {
        "id": "pzzeuxfDErnI",
        "colab_type": "code",
        "colab": {}
      },
      "source": [
        "X_train = X_train.set_index(\"prediction_id\").astype(\"int32\").reset_index().set_index(\"id_persona\").join(vehicular1).join(vehicular2).join(reniec).join(sunat)\n",
        "X_test = X_test.set_index(\"prediction_id\").astype(\"int32\").reset_index().set_index(\"id_persona\").join(vehicular1).join(vehicular2).join(reniec).join(sunat)\n",
        "del vehicular1, vehicular2, reniec, sunat"
      ],
      "execution_count": 0,
      "outputs": []
    },
    {
      "cell_type": "code",
      "metadata": {
        "id": "z9frmKF1EuEc",
        "colab_type": "code",
        "colab": {}
      },
      "source": [
        "import gc\n",
        "gc.collect()"
      ],
      "execution_count": 0,
      "outputs": []
    },
    {
      "cell_type": "code",
      "metadata": {
        "id": "3OuQK3nNE0au",
        "colab_type": "code",
        "colab": {}
      },
      "source": [
        "meses = {\n",
        "    201901: slice(201808, 201810),\n",
        "    201902: slice(201809, 201811),\n",
        "    201903: slice(201810, 201812),\n",
        "    201904: slice(201811, 201901),\n",
        "    201905: slice(201812, 201902),\n",
        "    201906: slice(201901, 201903),\n",
        "    201907: slice(201902, 201904)\n",
        "}\n",
        "\n",
        "meses_train = X_train.codmes.unique()\n",
        "meses_test = X_test.codmes.unique()\n",
        "complementos = []\n",
        "for mes in meses.keys():\n",
        "    print(\"*\"*10, mes, \"*\"*10)\n",
        "    res = pd.concat([\n",
        "        rcc_clasif.loc[meses[mes]].groupby(\"id_persona\").sum(),\n",
        "        rcc_mora.loc[meses[mes]].groupby(\"id_persona\").sum(),\n",
        "        rcc_producto.loc[meses[mes]].groupby(\"id_persona\").sum(),\n",
        "        rcc_banco.loc[meses[mes]].groupby(\"id_persona\").sum(),\n",
        "        camp_canal.loc[meses[mes]].groupby(\"id_persona\").sum(),\n",
        "        camp_prod.loc[meses[mes]].groupby(\"id_persona\").sum(),\n",
        "        digital.loc[meses[mes]].groupby(\"id_persona\").sum()\n",
        "        \n",
        "    ], axis=1)\n",
        "    res[\"codmes\"] = mes\n",
        "    res = res.reset_index().set_index([\"id_persona\", \"codmes\"]).astype(\"float32\")\n",
        "    complementos.append(res)\n",
        "\n",
        "gc.collect()\n",
        "print(\"concatenando complementos\")\n",
        "complementos = pd.concat(complementos)\n",
        "gc.collect()\n",
        "print(\"X_train join\")\n",
        "X_train = X_train.reset_index().join(complementos, on=[\"id_persona\", \"codmes\"]).set_index(\"prediction_id\")\n",
        "gc.collect()\n",
        "print(\"X_test join\")\n",
        "X_test = X_test.reset_index().join(complementos, on=[\"id_persona\", \"codmes\"]).set_index(\"prediction_id\")\n",
        "gc.collect()\n",
        "\n",
        "del rcc_clasif, rcc_mora, rcc_producto, rcc_banco, camp_canal, camp_prod, digital, complementos,res\n",
        "gc.collect()"
      ],
      "execution_count": 0,
      "outputs": []
    },
    {
      "cell_type": "code",
      "metadata": {
        "id": "oTB61TZ9E-LT",
        "colab_type": "code",
        "colab": {}
      },
      "source": [
        "for i, c in enumerate(X_train.columns[[not all(ord(c) < 128 for c in s) for s in X_train.columns]]):\n",
        "    X_train[\"non_ascii_\" + str(i)] = X_train[c]\n",
        "    X_train = X_train.drop(c, axis= 1)\n",
        "    X_test[\"non_ascii_\" + str(i)] = X_test[c]\n",
        "    X_test = X_test.drop(c, axis= 1)"
      ],
      "execution_count": 0,
      "outputs": []
    },
    {
      "cell_type": "code",
      "metadata": {
        "id": "hGk4A9hJFFYJ",
        "colab_type": "code",
        "colab": {}
      },
      "source": [
        "from lightgbm import LGBMRegressor\n",
        "gc.collect()"
      ],
      "execution_count": 0,
      "outputs": []
    },
    {
      "cell_type": "code",
      "metadata": {
        "id": "09d8cafIFLJN",
        "colab_type": "code",
        "colab": {}
      },
      "source": [
        "\n",
        "drop_cols = [\"codmes\"]\n",
        "test_preds = []\n",
        "train_preds = []\n",
        "y_train[\"target\"] = y_train[\"margen\"].astype(\"float32\")\n",
        "for mes in X_train.codmes.unique():\n",
        "    print(\"*\"*10, mes, \"*\"*10)\n",
        "    Xt = X_train[X_train.codmes != mes]\n",
        "    yt = y_train.loc[Xt.index, \"target\"]\n",
        "    Xt = Xt.drop(drop_cols, axis=1)\n",
        "\n",
        "    Xv = X_train[X_train.codmes == mes]\n",
        "    yv = y_train.loc[Xv.index, \"target\"]\n",
        "    \n",
        "    learner = LGBMRegressor(n_estimators=1000)\n",
        "    learner.fit(Xt, yt,  early_stopping_rounds=10, eval_metric=\"mae\",\n",
        "                eval_set=[(Xt, yt), (Xv.drop(drop_cols, axis=1), yv)], verbose=50)\n",
        "    gc.collect()\n",
        "    test_preds.append(pd.Series(learner.predict(X_test.drop(drop_cols, axis=1)),\n",
        "                                index=X_test.index, name=\"fold_\" + str(mes)))\n",
        "    train_preds.append(pd.Series(learner.predict(Xv.drop(drop_cols, axis=1)),\n",
        "                                index=Xv.index, name=\"probs\"))\n",
        "    gc.collect()\n",
        "\n",
        "test_preds = pd.concat(test_preds, axis=1).mean(axis=1)\n",
        "train_preds = pd.concat(train_preds)"
      ],
      "execution_count": 0,
      "outputs": []
    },
    {
      "cell_type": "code",
      "metadata": {
        "id": "PmlaV9a2FL42",
        "colab_type": "code",
        "colab": {}
      },
      "source": [
        "from lightgbm import LGBMClassifier\n",
        "gc.collect()"
      ],
      "execution_count": 0,
      "outputs": []
    },
    {
      "cell_type": "code",
      "metadata": {
        "id": "dGUo5uJ2FPTk",
        "colab_type": "code",
        "colab": {}
      },
      "source": [
        "drop_cols = [\"codmes\"]\n",
        "fi = []\n",
        "test_probs = []\n",
        "train_probs = []\n",
        "y_train[\"target\"] = (y_train[\"margen\"] > 0).astype(\"int32\")\n",
        "for mes in X_train.codmes.unique():\n",
        "    print(\"*\"*10, mes, \"*\"*10)\n",
        "    Xt = X_train[X_train.codmes != mes]\n",
        "    yt = y_train.loc[Xt.index, \"target\"]\n",
        "    Xt = Xt.drop(drop_cols, axis=1)\n",
        "\n",
        "    Xv = X_train[X_train.codmes == mes]\n",
        "    yv = y_train.loc[Xv.index, \"target\"]\n",
        "    \n",
        "    learner = LGBMClassifier(n_estimators=1000)\n",
        "    learner.fit(Xt, yt,  early_stopping_rounds=10, eval_metric=\"mae\",\n",
        "                eval_set=[(Xt, yt), (Xv.drop(drop_cols, axis=1), yv)], verbose=50)\n",
        "    gc.collect()\n",
        "    test_probs.append(pd.Series(learner.predict_proba(X_test.drop(drop_cols, axis=1))[:, -1],\n",
        "                                index=X_test.index, name=\"fold_\" + str(mes)))\n",
        "    train_probs.append(pd.Series(learner.predict_proba(Xv.drop(drop_cols, axis=1))[:, -1],\n",
        "                                index=Xv.index, name=\"probs\"))\n",
        "    gc.collect()\n",
        "\n",
        "test_probs = pd.concat(test_probs, axis=1).mean(axis=1)\n",
        "train_probs = pd.concat(train_probs)"
      ],
      "execution_count": 0,
      "outputs": []
    },
    {
      "cell_type": "code",
      "metadata": {
        "id": "Klk7EPn0FwMn",
        "colab_type": "code",
        "colab": {}
      },
      "source": [
        "test = pd.concat([test_probs.rename(\"probs\"), test_preds.rename(\"preds\")], axis=1)\n",
        "train = pd.concat([train_probs.rename(\"probs\"), train_preds.rename(\"preds\")], axis=1)"
      ],
      "execution_count": 0,
      "outputs": []
    },
    {
      "cell_type": "code",
      "metadata": {
        "id": "yUHFmMeiF1jQ",
        "colab_type": "code",
        "colab": {}
      },
      "source": [
        "from scipy.optimize import differential_evolution\n",
        "\n",
        "def clasificar(res, c):\n",
        "    return ((res.probs > c[0]) | (res.preds > c[1])) * c[2] + ((res.probs > c[3]) & (res.preds > c[4])) * c[5] > c[6]\n",
        "\n",
        "def cost(res, coefs):\n",
        "    return -((clasificar(res, coefs) * res.margen) / res.margen.sum()).sum()\n",
        "\n",
        "res = y_train.join(train)\n",
        "optimization = differential_evolution(lambda x: cost(res, x), [(-100, 100), (0, 1), (0, 1),\n",
        "                                                               (-100, 100), (0, 1), (0, 1),\n",
        "                                                               (0, 2)])\n",
        "optimization"
      ],
      "execution_count": 0,
      "outputs": []
    },
    {
      "cell_type": "code",
      "metadata": {
        "id": "jffq1uA7F6da",
        "colab_type": "code",
        "colab": {}
      },
      "source": [
        "test_preds = clasificar(test, optimization[\"x\"]).astype(int)\n",
        "test_preds.index.name=\"prediction_id\"\n",
        "test_preds.name=\"class\"\n",
        "test_preds.to_csv(\"benchmark3.csv\", header=True)"
      ],
      "execution_count": 0,
      "outputs": []
    }
  ]
}